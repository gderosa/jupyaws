{
 "cells": [
  {
   "cell_type": "markdown",
   "metadata": {},
   "source": [
    "From https://medium.com/@geekrodion/deploy-jupyter-notebook-to-aws-lambda-a57e87c53f37."
   ]
  },
  {
   "cell_type": "code",
   "execution_count": 1,
   "metadata": {},
   "outputs": [],
   "source": [
    "import numpy as np\n",
    "\n",
    "def algorithm_on_steroids(a, b):\n",
    "    return int(np.sum([a, b]))"
   ]
  },
  {
   "cell_type": "code",
   "execution_count": 2,
   "metadata": {},
   "outputs": [],
   "source": [
    "from json import loads, dumps\n",
    "\n",
    "def handler(event, context):\n",
    "    body = loads(event['body'])\n",
    "    result = algorithm_on_steroids(body['a'], body['b'])\n",
    "    return {\n",
    "        'statusCode': 200,\n",
    "        'body': dumps({\n",
    "            'result': result\n",
    "        }),\n",
    "        'headers' : {\n",
    "            'Access-Control-Allow-Origin' : '*'\n",
    "        }\n",
    "    }"
   ]
  },
  {
   "cell_type": "code",
   "execution_count": null,
   "metadata": {},
   "outputs": [],
   "source": []
  }
 ],
 "metadata": {
  "kernelspec": {
   "display_name": "Python 3",
   "language": "python",
   "name": "python3"
  },
  "language_info": {
   "codemirror_mode": {
    "name": "ipython",
    "version": 3
   },
   "file_extension": ".py",
   "mimetype": "text/x-python",
   "name": "python",
   "nbconvert_exporter": "python",
   "pygments_lexer": "ipython3",
   "version": "3.6.7"
  }
 },
 "nbformat": 4,
 "nbformat_minor": 2
}
